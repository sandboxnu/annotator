{
 "cells": [
  {
   "cell_type": "code",
   "execution_count": 1,
   "metadata": {},
   "outputs": [],
   "source": [
    "# imports\n",
    "\n",
    "import sklearn\n",
    "from convert_data import get_activity_accelerometer_data"
   ]
  },
  {
   "cell_type": "code",
   "execution_count": null,
   "metadata": {},
   "outputs": [],
   "source": []
  },
  {
   "cell_type": "code",
   "execution_count": 2,
   "metadata": {},
   "outputs": [
    {
     "name": "stdout",
     "output_type": "stream",
     "text": [
      "[1, 2, 3, 4, 5, 6, 7]\n",
      "[]\n",
      "['x', 'y', 'z']\n",
      "[[   0.    0.    0.]\n",
      " [1920. 2375. 1944.]\n",
      " [1919. 2374. 1942.]\n",
      " [1923. 2382. 1949.]\n",
      " [1921. 2374. 1949.]\n",
      " [1924. 2376. 1942.]\n",
      " [1922. 2371. 1950.]\n",
      " [1924. 2377. 1950.]\n",
      " [1880. 2327. 1832.]\n",
      " [1847. 2281. 1842.]\n",
      " [1859. 2330. 1869.]\n",
      " [1931. 2306. 1853.]\n",
      " [1936. 2280. 1869.]\n",
      " [1876. 2388. 1927.]\n",
      " [1838. 2354. 1892.]\n",
      " [1667. 2072. 2047.]\n",
      " [1611. 1957. 1906.]\n",
      " [1601. 1939. 1831.]\n",
      " [1643. 1965. 1879.]\n",
      " [1604. 1959. 1921.]\n",
      " [1640. 1829. 1940.]\n",
      " [1607. 1910. 1910.]\n",
      " [1948. 2442. 1797.]\n",
      " [1927. 2388. 1784.]\n",
      " [1960. 2319. 1831.]\n",
      " [1967. 2274. 1871.]\n",
      " [1991. 2252. 1882.]\n",
      " [1910. 2127. 1696.]\n",
      " [1965. 2088. 1841.]\n",
      " [1996. 2135. 1529.]\n",
      " [1944. 2082. 1653.]\n",
      " [1973. 2066. 1691.]\n",
      " [1926. 2007. 1733.]\n",
      " [1895. 2283. 1785.]\n",
      " [1889. 2279. 1794.]\n",
      " [1892. 2276. 1794.]\n",
      " [1892. 2280. 1787.]\n",
      " [1892. 2276. 1771.]\n",
      " [1895. 2269. 1759.]\n",
      " [1892. 2264. 1760.]\n",
      " [1984. 2003. 1653.]\n",
      " [1987. 2002. 1648.]\n",
      " [1990. 2001. 1650.]\n",
      " [1992. 2000. 1657.]\n",
      " [1987. 2003. 1652.]\n",
      " [1980. 1997. 1651.]\n",
      " [1979. 1999. 1651.]\n",
      " [1950. 1987. 1640.]\n",
      " [1957. 1979. 1635.]\n",
      " [1958. 1977. 1639.]\n",
      " [1954. 1981. 1641.]\n",
      " [1951. 1974. 1634.]\n",
      " [1954. 1975. 1631.]\n",
      " [1954. 1983. 1632.]\n",
      " [1861. 2367. 2278.]\n",
      " [1837. 2387. 2317.]\n",
      " [1819. 2409. 2331.]\n",
      " [1784. 2407. 2280.]\n",
      " [1811. 2414. 2267.]\n",
      " [1821. 2411. 2282.]\n",
      " [1820. 2395. 2265.]\n",
      " [1912. 2341. 1886.]\n",
      " [1825. 2281. 1845.]\n",
      " [1900. 2440. 1922.]\n",
      " [1945. 2299. 1869.]\n",
      " [1805. 2317. 1713.]\n",
      " [1891. 2302. 1822.]\n",
      " [1874. 2334. 1825.]\n",
      " [1954. 2293. 1770.]\n",
      " [1959. 2298. 1780.]\n",
      " [1954. 2299. 1774.]\n",
      " [1952. 2301. 1772.]\n",
      " [1959. 2302. 1773.]\n",
      " [1952. 2303. 1758.]\n",
      " [1958. 2299. 1765.]]\n"
     ]
    }
   ],
   "source": [
    "# get the data\n",
    "label_names, labels, feature_names, features = get_activity_accelerometer_data([1, 2, 3, 4, 5, 6, 7], (1, 2000), \"./data\")\n",
    "\n",
    "# print out the data\n",
    "print(label_names)\n",
    "print(labels)\n",
    "print(feature_names)\n",
    "print(features)"
   ]
  },
  {
   "cell_type": "code",
   "execution_count": 3,
   "metadata": {},
   "outputs": [
    {
     "ename": "ValueError",
     "evalue": "Found input variables with inconsistent numbers of samples: [75, 1]",
     "output_type": "error",
     "traceback": [
      "\u001b[0;31m---------------------------------------------------------\u001b[0m",
      "\u001b[0;31mValueError\u001b[0m              Traceback (most recent call last)",
      "\u001b[0;32m<ipython-input-3-2b708194cb17>\u001b[0m in \u001b[0;36m<module>\u001b[0;34m\u001b[0m\n\u001b[1;32m      4\u001b[0m                                                          \u001b[0mlabels\u001b[0m\u001b[0;34m,\u001b[0m\u001b[0;34m\u001b[0m\u001b[0;34m\u001b[0m\u001b[0m\n\u001b[1;32m      5\u001b[0m                                                          \u001b[0mtest_size\u001b[0m \u001b[0;34m=\u001b[0m \u001b[0;36m0.33\u001b[0m\u001b[0;34m,\u001b[0m\u001b[0;34m\u001b[0m\u001b[0;34m\u001b[0m\u001b[0m\n\u001b[0;32m----> 6\u001b[0;31m                                                          random_state = 42)\n\u001b[0m",
      "\u001b[0;32m/opt/anaconda/lib/python3.7/site-packages/sklearn/model_selection/_split.py\u001b[0m in \u001b[0;36mtrain_test_split\u001b[0;34m(*arrays, **options)\u001b[0m\n\u001b[1;32m   2094\u001b[0m         \u001b[0;32mraise\u001b[0m \u001b[0mTypeError\u001b[0m\u001b[0;34m(\u001b[0m\u001b[0;34m\"Invalid parameters passed: %s\"\u001b[0m \u001b[0;34m%\u001b[0m \u001b[0mstr\u001b[0m\u001b[0;34m(\u001b[0m\u001b[0moptions\u001b[0m\u001b[0;34m)\u001b[0m\u001b[0;34m)\u001b[0m\u001b[0;34m\u001b[0m\u001b[0;34m\u001b[0m\u001b[0m\n\u001b[1;32m   2095\u001b[0m \u001b[0;34m\u001b[0m\u001b[0m\n\u001b[0;32m-> 2096\u001b[0;31m     \u001b[0marrays\u001b[0m \u001b[0;34m=\u001b[0m \u001b[0mindexable\u001b[0m\u001b[0;34m(\u001b[0m\u001b[0;34m*\u001b[0m\u001b[0marrays\u001b[0m\u001b[0;34m)\u001b[0m\u001b[0;34m\u001b[0m\u001b[0;34m\u001b[0m\u001b[0m\n\u001b[0m\u001b[1;32m   2097\u001b[0m \u001b[0;34m\u001b[0m\u001b[0m\n\u001b[1;32m   2098\u001b[0m     \u001b[0mn_samples\u001b[0m \u001b[0;34m=\u001b[0m \u001b[0m_num_samples\u001b[0m\u001b[0;34m(\u001b[0m\u001b[0marrays\u001b[0m\u001b[0;34m[\u001b[0m\u001b[0;36m0\u001b[0m\u001b[0;34m]\u001b[0m\u001b[0;34m)\u001b[0m\u001b[0;34m\u001b[0m\u001b[0;34m\u001b[0m\u001b[0m\n",
      "\u001b[0;32m/opt/anaconda/lib/python3.7/site-packages/sklearn/utils/validation.py\u001b[0m in \u001b[0;36mindexable\u001b[0;34m(*iterables)\u001b[0m\n\u001b[1;32m    228\u001b[0m         \u001b[0;32melse\u001b[0m\u001b[0;34m:\u001b[0m\u001b[0;34m\u001b[0m\u001b[0;34m\u001b[0m\u001b[0m\n\u001b[1;32m    229\u001b[0m             \u001b[0mresult\u001b[0m\u001b[0;34m.\u001b[0m\u001b[0mappend\u001b[0m\u001b[0;34m(\u001b[0m\u001b[0mnp\u001b[0m\u001b[0;34m.\u001b[0m\u001b[0marray\u001b[0m\u001b[0;34m(\u001b[0m\u001b[0mX\u001b[0m\u001b[0;34m)\u001b[0m\u001b[0;34m)\u001b[0m\u001b[0;34m\u001b[0m\u001b[0;34m\u001b[0m\u001b[0m\n\u001b[0;32m--> 230\u001b[0;31m     \u001b[0mcheck_consistent_length\u001b[0m\u001b[0;34m(\u001b[0m\u001b[0;34m*\u001b[0m\u001b[0mresult\u001b[0m\u001b[0;34m)\u001b[0m\u001b[0;34m\u001b[0m\u001b[0;34m\u001b[0m\u001b[0m\n\u001b[0m\u001b[1;32m    231\u001b[0m     \u001b[0;32mreturn\u001b[0m \u001b[0mresult\u001b[0m\u001b[0;34m\u001b[0m\u001b[0;34m\u001b[0m\u001b[0m\n\u001b[1;32m    232\u001b[0m \u001b[0;34m\u001b[0m\u001b[0m\n",
      "\u001b[0;32m/opt/anaconda/lib/python3.7/site-packages/sklearn/utils/validation.py\u001b[0m in \u001b[0;36mcheck_consistent_length\u001b[0;34m(*arrays)\u001b[0m\n\u001b[1;32m    203\u001b[0m     \u001b[0;32mif\u001b[0m \u001b[0mlen\u001b[0m\u001b[0;34m(\u001b[0m\u001b[0muniques\u001b[0m\u001b[0;34m)\u001b[0m \u001b[0;34m>\u001b[0m \u001b[0;36m1\u001b[0m\u001b[0;34m:\u001b[0m\u001b[0;34m\u001b[0m\u001b[0;34m\u001b[0m\u001b[0m\n\u001b[1;32m    204\u001b[0m         raise ValueError(\"Found input variables with inconsistent numbers of\"\n\u001b[0;32m--> 205\u001b[0;31m                          \" samples: %r\" % [int(l) for l in lengths])\n\u001b[0m\u001b[1;32m    206\u001b[0m \u001b[0;34m\u001b[0m\u001b[0m\n\u001b[1;32m    207\u001b[0m \u001b[0;34m\u001b[0m\u001b[0m\n",
      "\u001b[0;31mValueError\u001b[0m: Found input variables with inconsistent numbers of samples: [75, 1]"
     ]
    }
   ],
   "source": [
    "from sklearn.model_selection import train_test_split\n",
    "\n",
    "train, test, train_labels, test_labels = train_test_split(features,\n",
    "                                                         labels, \n",
    "                                                         test_size = 0.33,\n",
    "                                                         random_state = 42)"
   ]
  },
  {
   "cell_type": "code",
   "execution_count": null,
   "metadata": {},
   "outputs": [],
   "source": [
    "from sklearn.naive_bayes import GaussianNB\n",
    "\n",
    "gnb = GaussianNB()\n",
    "\n",
    "model = gnb.fit(train, train_labels)"
   ]
  },
  {
   "cell_type": "code",
   "execution_count": null,
   "metadata": {},
   "outputs": [],
   "source": [
    "preds = gnb.predict(test)"
   ]
  },
  {
   "cell_type": "code",
   "execution_count": null,
   "metadata": {},
   "outputs": [],
   "source": [
    "from sklearn.metrics import accuracy_score\n",
    "print(accuracy_score(test_labels, preds))"
   ]
  }
 ],
 "metadata": {
  "kernelspec": {
   "display_name": "Python 3",
   "language": "python",
   "name": "python3"
  },
  "language_info": {
   "codemirror_mode": {
    "name": "ipython",
    "version": 3
   },
   "file_extension": ".py",
   "mimetype": "text/x-python",
   "name": "python",
   "nbconvert_exporter": "python",
   "pygments_lexer": "ipython3",
   "version": "3.7.3"
  }
 },
 "nbformat": 4,
 "nbformat_minor": 2
}
